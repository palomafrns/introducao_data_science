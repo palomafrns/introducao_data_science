{
 "cells": [
  {
   "cell_type": "code",
   "execution_count": 148,
   "metadata": {
    "colab": {
     "base_uri": "https://localhost:8080/",
     "height": 222
    },
    "colab_type": "code",
    "id": "xPDPo6qdaeD0",
    "outputId": "4416d966-1483-43d2-addf-4e12d9bff025",
    "ExecuteTime": {
     "end_time": "2024-02-20T23:39:10.331817Z",
     "start_time": "2024-02-20T23:39:10.282781300Z"
    }
   },
   "outputs": [],
   "source": [
    "import seaborn as sns"
   ]
  },
  {
   "cell_type": "markdown",
   "metadata": {
    "colab_type": "text",
    "id": "SbAAa178dXPs"
   },
   "source": [
    "# Analisando as notas em geral"
   ]
  },
  {
   "cell_type": "code",
   "execution_count": 149,
   "metadata": {
    "colab": {
     "base_uri": "https://localhost:8080/",
     "height": 195
    },
    "colab_type": "code",
    "id": "Ii0yLBXCIimS",
    "outputId": "6a2bacef-c30f-4ece-a18e-51f3910068b5",
    "ExecuteTime": {
     "end_time": "2024-02-20T23:39:10.968255200Z",
     "start_time": "2024-02-20T23:39:10.294503500Z"
    }
   },
   "outputs": [
    {
     "data": {
      "text/plain": "   userId  movieId  rating  timestamp\n0       1        1     4.0  964982703\n1       1        3     4.0  964981247\n2       1        6     4.0  964982224\n3       1       47     5.0  964983815\n4       1       50     5.0  964982931",
      "text/html": "<div>\n<style scoped>\n    .dataframe tbody tr th:only-of-type {\n        vertical-align: middle;\n    }\n\n    .dataframe tbody tr th {\n        vertical-align: top;\n    }\n\n    .dataframe thead th {\n        text-align: right;\n    }\n</style>\n<table border=\"1\" class=\"dataframe\">\n  <thead>\n    <tr style=\"text-align: right;\">\n      <th></th>\n      <th>userId</th>\n      <th>movieId</th>\n      <th>rating</th>\n      <th>timestamp</th>\n    </tr>\n  </thead>\n  <tbody>\n    <tr>\n      <th>0</th>\n      <td>1</td>\n      <td>1</td>\n      <td>4.0</td>\n      <td>964982703</td>\n    </tr>\n    <tr>\n      <th>1</th>\n      <td>1</td>\n      <td>3</td>\n      <td>4.0</td>\n      <td>964981247</td>\n    </tr>\n    <tr>\n      <th>2</th>\n      <td>1</td>\n      <td>6</td>\n      <td>4.0</td>\n      <td>964982224</td>\n    </tr>\n    <tr>\n      <th>3</th>\n      <td>1</td>\n      <td>47</td>\n      <td>5.0</td>\n      <td>964983815</td>\n    </tr>\n    <tr>\n      <th>4</th>\n      <td>1</td>\n      <td>50</td>\n      <td>5.0</td>\n      <td>964982931</td>\n    </tr>\n  </tbody>\n</table>\n</div>"
     },
     "execution_count": 149,
     "metadata": {},
     "output_type": "execute_result"
    }
   ],
   "source": [
    "import pandas as pd\n",
    "\n",
    "notas = pd.read_csv(\"ratings.csv\")\n",
    "notas.head()"
   ]
  },
  {
   "cell_type": "code",
   "execution_count": 150,
   "metadata": {
    "colab": {
     "base_uri": "https://localhost:8080/",
     "height": 34
    },
    "colab_type": "code",
    "id": "-q-QqlygKC_3",
    "outputId": "61d9767f-eca4-4567-b766-23e6d8af63ac",
    "ExecuteTime": {
     "end_time": "2024-02-20T23:39:10.969260300Z",
     "start_time": "2024-02-20T23:39:10.339752Z"
    }
   },
   "outputs": [
    {
     "data": {
      "text/plain": "(100836, 4)"
     },
     "execution_count": 150,
     "metadata": {},
     "output_type": "execute_result"
    }
   ],
   "source": [
    "notas.shape"
   ]
  },
  {
   "cell_type": "code",
   "execution_count": 151,
   "metadata": {
    "colab": {
     "base_uri": "https://localhost:8080/",
     "height": 195
    },
    "colab_type": "code",
    "id": "AFmLv5tcKkc8",
    "outputId": "5d8c1efb-66ea-449a-ca73-34157a116a1b",
    "ExecuteTime": {
     "end_time": "2024-02-20T23:39:10.970265900Z",
     "start_time": "2024-02-20T23:39:10.348237500Z"
    }
   },
   "outputs": [
    {
     "data": {
      "text/plain": "   usuarioId  filmeId  nota    momento\n0          1        1   4.0  964982703\n1          1        3   4.0  964981247\n2          1        6   4.0  964982224\n3          1       47   5.0  964983815\n4          1       50   5.0  964982931",
      "text/html": "<div>\n<style scoped>\n    .dataframe tbody tr th:only-of-type {\n        vertical-align: middle;\n    }\n\n    .dataframe tbody tr th {\n        vertical-align: top;\n    }\n\n    .dataframe thead th {\n        text-align: right;\n    }\n</style>\n<table border=\"1\" class=\"dataframe\">\n  <thead>\n    <tr style=\"text-align: right;\">\n      <th></th>\n      <th>usuarioId</th>\n      <th>filmeId</th>\n      <th>nota</th>\n      <th>momento</th>\n    </tr>\n  </thead>\n  <tbody>\n    <tr>\n      <th>0</th>\n      <td>1</td>\n      <td>1</td>\n      <td>4.0</td>\n      <td>964982703</td>\n    </tr>\n    <tr>\n      <th>1</th>\n      <td>1</td>\n      <td>3</td>\n      <td>4.0</td>\n      <td>964981247</td>\n    </tr>\n    <tr>\n      <th>2</th>\n      <td>1</td>\n      <td>6</td>\n      <td>4.0</td>\n      <td>964982224</td>\n    </tr>\n    <tr>\n      <th>3</th>\n      <td>1</td>\n      <td>47</td>\n      <td>5.0</td>\n      <td>964983815</td>\n    </tr>\n    <tr>\n      <th>4</th>\n      <td>1</td>\n      <td>50</td>\n      <td>5.0</td>\n      <td>964982931</td>\n    </tr>\n  </tbody>\n</table>\n</div>"
     },
     "execution_count": 151,
     "metadata": {},
     "output_type": "execute_result"
    }
   ],
   "source": [
    "notas.columns = [\"usuarioId\", \"filmeId\", \"nota\", \"momento\"]\n",
    "notas.head()"
   ]
  },
  {
   "cell_type": "code",
   "execution_count": 152,
   "metadata": {
    "colab": {
     "base_uri": "https://localhost:8080/",
     "height": 34
    },
    "colab_type": "code",
    "id": "IRYZeUA3LIVC",
    "outputId": "69a4a92b-94e1-42fd-9fa6-78ab845224c0",
    "ExecuteTime": {
     "end_time": "2024-02-20T23:39:10.970265900Z",
     "start_time": "2024-02-20T23:39:10.361061Z"
    }
   },
   "outputs": [
    {
     "data": {
      "text/plain": "array([4. , 5. , 3. , 2. , 1. , 4.5, 3.5, 2.5, 0.5, 1.5])"
     },
     "execution_count": 152,
     "metadata": {},
     "output_type": "execute_result"
    }
   ],
   "source": [
    "notas['nota'].unique()"
   ]
  },
  {
   "cell_type": "code",
   "execution_count": 153,
   "metadata": {
    "colab": {
     "base_uri": "https://localhost:8080/",
     "height": 202
    },
    "colab_type": "code",
    "id": "t2axj7VxLV6W",
    "outputId": "3f8a0351-6686-43cc-adca-017f709a3b09",
    "ExecuteTime": {
     "end_time": "2024-02-20T23:39:10.971271Z",
     "start_time": "2024-02-20T23:39:10.371708100Z"
    }
   },
   "outputs": [
    {
     "data": {
      "text/plain": "nota\n4.0    26818\n3.0    20047\n5.0    13211\n3.5    13136\n4.5     8551\n2.0     7551\n2.5     5550\n1.0     2811\n1.5     1791\n0.5     1370\nName: count, dtype: int64"
     },
     "execution_count": 153,
     "metadata": {},
     "output_type": "execute_result"
    }
   ],
   "source": [
    "notas['nota'].value_counts()"
   ]
  },
  {
   "cell_type": "code",
   "execution_count": 154,
   "metadata": {
    "colab": {
     "base_uri": "https://localhost:8080/",
     "height": 50
    },
    "colab_type": "code",
    "id": "HNLTIYGNL7jn",
    "outputId": "61040b21-591a-4c56-f4e7-0205cac8e674",
    "ExecuteTime": {
     "end_time": "2024-02-20T23:39:10.971271Z",
     "start_time": "2024-02-20T23:39:10.381254800Z"
    }
   },
   "outputs": [
    {
     "name": "stdout",
     "output_type": "stream",
     "text": [
      "Media 3.501556983616962\n",
      "Mediana 3.5\n"
     ]
    }
   ],
   "source": [
    "print(\"Media\",notas['nota'].mean())\n",
    "print(\"Mediana\",notas['nota'].median())"
   ]
  },
  {
   "cell_type": "code",
   "execution_count": 155,
   "metadata": {
    "colab": {
     "base_uri": "https://localhost:8080/",
     "height": 118
    },
    "colab_type": "code",
    "id": "lf4mK1pRNaIw",
    "outputId": "cdc09297-074b-4221-e122-fc9551ad4698",
    "ExecuteTime": {
     "end_time": "2024-02-20T23:39:10.971271Z",
     "start_time": "2024-02-20T23:39:10.392749500Z"
    }
   },
   "outputs": [
    {
     "data": {
      "text/plain": "0    4.0\n1    4.0\n2    4.0\n3    5.0\n4    5.0\nName: nota, dtype: float64"
     },
     "execution_count": 155,
     "metadata": {},
     "output_type": "execute_result"
    }
   ],
   "source": [
    "notas.nota.head()"
   ]
  },
  {
   "cell_type": "code",
   "execution_count": 156,
   "metadata": {
    "colab": {
     "base_uri": "https://localhost:8080/",
     "height": 286
    },
    "colab_type": "code",
    "id": "v2yJpjE3MxmK",
    "outputId": "b9f1654e-062d-4bb3-f88f-b0817656e75e",
    "ExecuteTime": {
     "end_time": "2024-02-20T23:39:10.972281400Z",
     "start_time": "2024-02-20T23:39:10.404310Z"
    }
   },
   "outputs": [
    {
     "data": {
      "text/plain": "<Axes: ylabel='Frequency'>"
     },
     "execution_count": 156,
     "metadata": {},
     "output_type": "execute_result"
    },
    {
     "data": {
      "text/plain": "<Figure size 640x480 with 1 Axes>",
      "image/png": "[encoded data removed]"
     },
     "metadata": {},
     "output_type": "display_data"
    }
   ],
   "source": [
    "notas.nota.plot(kind='hist')"
   ]
  },
  {
   "cell_type": "code",
   "execution_count": 157,
   "metadata": {
    "colab": {
     "base_uri": "https://localhost:8080/",
     "height": 168
    },
    "colab_type": "code",
    "id": "acefz1vhNRd9",
    "outputId": "b49bd63d-6a2b-4c06-a102-a3da8326ed38",
    "ExecuteTime": {
     "end_time": "2024-02-20T23:39:10.973285Z",
     "start_time": "2024-02-20T23:39:10.560681100Z"
    }
   },
   "outputs": [
    {
     "data": {
      "text/plain": "count    100836.000000\nmean          3.501557\nstd           1.042529\nmin           0.500000\n25%           3.000000\n50%           3.500000\n75%           4.000000\nmax           5.000000\nName: nota, dtype: float64"
     },
     "execution_count": 157,
     "metadata": {},
     "output_type": "execute_result"
    }
   ],
   "source": [
    "notas.nota.describe()"
   ]
  },
  {
   "cell_type": "code",
   "execution_count": 158,
   "metadata": {
    "colab": {
     "base_uri": "https://localhost:8080/",
     "height": 300
    },
    "colab_type": "code",
    "id": "oL2PcsCVOjL-",
    "outputId": "7c2f67a5-e0f9-42bc-e4e7-0016b5aa3a7c",
    "ExecuteTime": {
     "end_time": "2024-02-20T23:39:10.986708900Z",
     "start_time": "2024-02-20T23:39:10.571235600Z"
    }
   },
   "outputs": [
    {
     "data": {
      "text/plain": "<Axes: ylabel='nota'>"
     },
     "execution_count": 158,
     "metadata": {},
     "output_type": "execute_result"
    },
    {
     "data": {
      "text/plain": "<Figure size 640x480 with 1 Axes>",
      "image/png": "[encoded data removed]"
     },
     "metadata": {},
     "output_type": "display_data"
    }
   ],
   "source": [
    "import seaborn as sns\n",
    "\n",
    "sns.boxplot(notas.nota)"
   ]
  },
  {
   "cell_type": "markdown",
   "metadata": {
    "colab_type": "text",
    "id": "Bl3_iDn4daKd"
   },
   "source": [
    "# Olhando os filmes"
   ]
  },
  {
   "cell_type": "code",
   "execution_count": 159,
   "metadata": {
    "colab": {
     "base_uri": "https://localhost:8080/",
     "height": 195
    },
    "colab_type": "code",
    "id": "9GqR8mvvPFTk",
    "outputId": "7d231986-dbca-4612-ad45-930cb7126da8",
    "ExecuteTime": {
     "end_time": "2024-02-20T23:39:10.986708900Z",
     "start_time": "2024-02-20T23:39:10.815258800Z"
    }
   },
   "outputs": [
    {
     "data": {
      "text/plain": "   filmeId                              titulo  \\\n0        1                    Toy Story (1995)   \n1        2                      Jumanji (1995)   \n2        3             Grumpier Old Men (1995)   \n3        4            Waiting to Exhale (1995)   \n4        5  Father of the Bride Part II (1995)   \n\n                                       generos  \n0  Adventure|Animation|Children|Comedy|Fantasy  \n1                   Adventure|Children|Fantasy  \n2                               Comedy|Romance  \n3                         Comedy|Drama|Romance  \n4                                       Comedy  ",
      "text/html": "<div>\n<style scoped>\n    .dataframe tbody tr th:only-of-type {\n        vertical-align: middle;\n    }\n\n    .dataframe tbody tr th {\n        vertical-align: top;\n    }\n\n    .dataframe thead th {\n        text-align: right;\n    }\n</style>\n<table border=\"1\" class=\"dataframe\">\n  <thead>\n    <tr style=\"text-align: right;\">\n      <th></th>\n      <th>filmeId</th>\n      <th>titulo</th>\n      <th>generos</th>\n    </tr>\n  </thead>\n  <tbody>\n    <tr>\n      <th>0</th>\n      <td>1</td>\n      <td>Toy Story (1995)</td>\n      <td>Adventure|Animation|Children|Comedy|Fantasy</td>\n    </tr>\n    <tr>\n      <th>1</th>\n      <td>2</td>\n      <td>Jumanji (1995)</td>\n      <td>Adventure|Children|Fantasy</td>\n    </tr>\n    <tr>\n      <th>2</th>\n      <td>3</td>\n      <td>Grumpier Old Men (1995)</td>\n      <td>Comedy|Romance</td>\n    </tr>\n    <tr>\n      <th>3</th>\n      <td>4</td>\n      <td>Waiting to Exhale (1995)</td>\n      <td>Comedy|Drama|Romance</td>\n    </tr>\n    <tr>\n      <th>4</th>\n      <td>5</td>\n      <td>Father of the Bride Part II (1995)</td>\n      <td>Comedy</td>\n    </tr>\n  </tbody>\n</table>\n</div>"
     },
     "execution_count": 159,
     "metadata": {},
     "output_type": "execute_result"
    }
   ],
   "source": [
    "filmes = pd.read_csv(\"movies.csv\")\n",
    "filmes.columns = [\"filmeId\", \"titulo\", \"generos\"]\n",
    "filmes.head()"
   ]
  },
  {
   "cell_type": "code",
   "execution_count": 160,
   "metadata": {
    "colab": {
     "base_uri": "https://localhost:8080/",
     "height": 195
    },
    "colab_type": "code",
    "id": "vGirDFvKciMr",
    "outputId": "7924dfa6-062e-4e5f-bfd2-91dba16403ea",
    "ExecuteTime": {
     "end_time": "2024-02-20T23:39:10.986708900Z",
     "start_time": "2024-02-20T23:39:10.837091400Z"
    }
   },
   "outputs": [
    {
     "data": {
      "text/plain": "   usuarioId  filmeId  nota    momento\n0          1        1   4.0  964982703\n1          1        3   4.0  964981247\n2          1        6   4.0  964982224\n3          1       47   5.0  964983815\n4          1       50   5.0  964982931",
      "text/html": "<div>\n<style scoped>\n    .dataframe tbody tr th:only-of-type {\n        vertical-align: middle;\n    }\n\n    .dataframe tbody tr th {\n        vertical-align: top;\n    }\n\n    .dataframe thead th {\n        text-align: right;\n    }\n</style>\n<table border=\"1\" class=\"dataframe\">\n  <thead>\n    <tr style=\"text-align: right;\">\n      <th></th>\n      <th>usuarioId</th>\n      <th>filmeId</th>\n      <th>nota</th>\n      <th>momento</th>\n    </tr>\n  </thead>\n  <tbody>\n    <tr>\n      <th>0</th>\n      <td>1</td>\n      <td>1</td>\n      <td>4.0</td>\n      <td>964982703</td>\n    </tr>\n    <tr>\n      <th>1</th>\n      <td>1</td>\n      <td>3</td>\n      <td>4.0</td>\n      <td>964981247</td>\n    </tr>\n    <tr>\n      <th>2</th>\n      <td>1</td>\n      <td>6</td>\n      <td>4.0</td>\n      <td>964982224</td>\n    </tr>\n    <tr>\n      <th>3</th>\n      <td>1</td>\n      <td>47</td>\n      <td>5.0</td>\n      <td>964983815</td>\n    </tr>\n    <tr>\n      <th>4</th>\n      <td>1</td>\n      <td>50</td>\n      <td>5.0</td>\n      <td>964982931</td>\n    </tr>\n  </tbody>\n</table>\n</div>"
     },
     "execution_count": 160,
     "metadata": {},
     "output_type": "execute_result"
    }
   ],
   "source": [
    "notas.head()"
   ]
  },
  {
   "cell_type": "markdown",
   "metadata": {
    "colab_type": "text",
    "id": "Uh7lbptVdTP7"
   },
   "source": [
    "# Analisando algumas notas especificas por filme"
   ]
  },
  {
   "cell_type": "code",
   "execution_count": 161,
   "metadata": {
    "colab": {
     "base_uri": "https://localhost:8080/",
     "height": 34
    },
    "colab_type": "code",
    "id": "ctwYC31vctN_",
    "outputId": "26db3165-86ee-4fdb-ad66-6529bb986fbd",
    "ExecuteTime": {
     "end_time": "2024-02-20T23:39:10.987705900Z",
     "start_time": "2024-02-20T23:39:10.842125300Z"
    }
   },
   "outputs": [
    {
     "data": {
      "text/plain": "3.9209302325581397"
     },
     "execution_count": 161,
     "metadata": {},
     "output_type": "execute_result"
    }
   ],
   "source": [
    "notas.query(\"filmeId==1\").nota.mean()"
   ]
  },
  {
   "cell_type": "code",
   "execution_count": 162,
   "metadata": {
    "colab": {
     "base_uri": "https://localhost:8080/",
     "height": 34
    },
    "colab_type": "code",
    "id": "moINz1Q-dA1P",
    "outputId": "708dc9f7-0fa8-412e-b711-0b0644e9565d",
    "ExecuteTime": {
     "end_time": "2024-02-20T23:39:10.987705900Z",
     "start_time": "2024-02-20T23:39:10.876510700Z"
    }
   },
   "outputs": [
    {
     "data": {
      "text/plain": "3.4318181818181817"
     },
     "execution_count": 162,
     "metadata": {},
     "output_type": "execute_result"
    }
   ],
   "source": [
    "notas.query(\"filmeId==2\").nota.mean()"
   ]
  },
  {
   "cell_type": "code",
   "execution_count": 163,
   "metadata": {
    "colab": {
     "base_uri": "https://localhost:8080/",
     "height": 134
    },
    "colab_type": "code",
    "id": "ZwG5XDW4di7G",
    "outputId": "f57cb84e-0a34-4637-90c2-783586f279eb",
    "ExecuteTime": {
     "end_time": "2024-02-20T23:39:10.987705900Z",
     "start_time": "2024-02-20T23:39:10.885856800Z"
    }
   },
   "outputs": [
    {
     "data": {
      "text/plain": "filmeId\n1    3.920930\n2    3.431818\n3    3.259615\n4    2.357143\n5    3.071429\nName: nota, dtype: float64"
     },
     "execution_count": 163,
     "metadata": {},
     "output_type": "execute_result"
    }
   ],
   "source": [
    "medias_por_filme = notas.groupby(\"filmeId\").mean().nota\n",
    "medias_por_filme.head()"
   ]
  },
  {
   "cell_type": "code",
   "execution_count": 164,
   "metadata": {
    "colab": {
     "base_uri": "https://localhost:8080/",
     "height": 286
    },
    "colab_type": "code",
    "id": "petoBC-Ddr93",
    "outputId": "96440a6d-3b41-4310-b0b9-5f09559c4405",
    "ExecuteTime": {
     "end_time": "2024-02-20T23:39:11.412499100Z",
     "start_time": "2024-02-20T23:39:10.901222100Z"
    }
   },
   "outputs": [
    {
     "data": {
      "text/plain": "<Axes: ylabel='Frequency'>"
     },
     "execution_count": 164,
     "metadata": {},
     "output_type": "execute_result"
    },
    {
     "data": {
      "text/plain": "<Figure size 640x480 with 1 Axes>",
      "image/png": "[encoded data removed]"
     },
     "metadata": {},
     "output_type": "display_data"
    }
   ],
   "source": [
    "medias_por_filme.plot(kind='hist')"
   ]
  },
  {
   "cell_type": "code",
   "execution_count": 165,
   "metadata": {
    "colab": {
     "base_uri": "https://localhost:8080/",
     "height": 490
    },
    "colab_type": "code",
    "id": "GhDj0fPqe0VD",
    "outputId": "ccff4379-4805-49af-961e-51c1b9838714",
    "ExecuteTime": {
     "end_time": "2024-02-20T23:39:11.591164Z",
     "start_time": "2024-02-20T23:39:11.104000600Z"
    }
   },
   "outputs": [
    {
     "data": {
      "text/plain": "<Axes: ylabel='nota'>"
     },
     "execution_count": 165,
     "metadata": {},
     "output_type": "execute_result"
    },
    {
     "data": {
      "text/plain": "<Figure size 500x800 with 1 Axes>",
      "image/png": "[encoded data removed]"
     },
     "metadata": {},
     "output_type": "display_data"
    }
   ],
   "source": [
    "import matplotlib.pyplot as plt\n",
    "\n",
    "plt.figure(figsize=(5,8))\n",
    "sns.boxplot(y=medias_por_filme)"
   ]
  },
  {
   "cell_type": "code",
   "execution_count": 166,
   "metadata": {
    "colab": {
     "base_uri": "https://localhost:8080/",
     "height": 168
    },
    "colab_type": "code",
    "id": "1D-bqmpdfFIK",
    "outputId": "3964f766-4829-47f7-e290-792a618e909e",
    "ExecuteTime": {
     "end_time": "2024-02-20T23:39:11.592159Z",
     "start_time": "2024-02-20T23:39:11.263985Z"
    }
   },
   "outputs": [
    {
     "data": {
      "text/plain": "count    9724.000000\nmean        3.262448\nstd         0.869874\nmin         0.500000\n25%         2.800000\n50%         3.416667\n75%         3.911765\nmax         5.000000\nName: nota, dtype: float64"
     },
     "execution_count": 166,
     "metadata": {},
     "output_type": "execute_result"
    }
   ],
   "source": [
    "medias_por_filme.describe()"
   ]
  },
  {
   "cell_type": "code",
   "execution_count": 167,
   "metadata": {
    "colab": {
     "base_uri": "https://localhost:8080/",
     "height": 300
    },
    "colab_type": "code",
    "id": "Pfi9iASYfLUe",
    "outputId": "33df3e67-d300-4b5b-e226-38ca791fe9f0",
    "ExecuteTime": {
     "end_time": "2024-02-20T23:39:11.928687900Z",
     "start_time": "2024-02-20T23:39:11.278055100Z"
    }
   },
   "outputs": [
    {
     "name": "stderr",
     "output_type": "stream",
     "text": [
      "C:\\Users\\palom\\AppData\\Local\\Temp\\ipykernel_25980\\364880693.py:1: UserWarning: \n",
      "\n",
      "`distplot` is a deprecated function and will be removed in seaborn v0.14.0.\n",
      "\n",
      "Please adapt your code to use either `displot` (a figure-level function with\n",
      "similar flexibility) or `histplot` (an axes-level function for histograms).\n",
      "\n",
      "For a guide to updating your code to use the new functions, please see\n",
      "https://gist.github.com/mwaskom/de44147ed2974457ad6372750bbe5751\n",
      "\n",
      "  sns.distplot(medias_por_filme)\n"
     ]
    },
    {
     "data": {
      "text/plain": "<Axes: xlabel='nota', ylabel='Density'>"
     },
     "execution_count": 167,
     "metadata": {},
     "output_type": "execute_result"
    },
    {
     "data": {
      "text/plain": "<Figure size 640x480 with 1 Axes>",
      "image/png": "[encoded data removed]"
     },
     "metadata": {},
     "output_type": "display_data"
    }
   ],
   "source": [
    "sns.distplot(medias_por_filme)"
   ]
  },
  {
   "cell_type": "code",
   "execution_count": 168,
   "metadata": {
    "colab": {
     "base_uri": "https://localhost:8080/",
     "height": 298
    },
    "colab_type": "code",
    "id": "b5RZudqefW-w",
    "outputId": "2b4618fb-94b8-496a-abc0-400192adf66b",
    "ExecuteTime": {
     "end_time": "2024-02-20T23:39:12.038055700Z",
     "start_time": "2024-02-20T23:39:11.593154100Z"
    }
   },
   "outputs": [
    {
     "data": {
      "text/plain": "Text(0.5, 1.0, 'Histograma das médias dos filmes')"
     },
     "execution_count": 168,
     "metadata": {},
     "output_type": "execute_result"
    },
    {
     "data": {
      "text/plain": "<Figure size 640x480 with 1 Axes>",
      "image/png": "[encoded data removed]"
     },
     "metadata": {},
     "output_type": "display_data"
    }
   ],
   "source": [
    "plt.hist(medias_por_filme)\n",
    "plt.title(\"Histograma das médias dos filmes\")"
   ]
  },
  {
   "cell_type": "code",
   "execution_count": 169,
   "metadata": {
    "colab": {
     "base_uri": "https://localhost:8080/",
     "height": 652
    },
    "colab_type": "code",
    "id": "3nMSqueDpEo3",
    "outputId": "73c617fc-9ad1-4cd5-cc94-6c624517874c",
    "ExecuteTime": {
     "end_time": "2024-02-20T23:39:12.047844800Z",
     "start_time": "2024-02-20T23:39:11.768518200Z"
    }
   },
   "outputs": [
    {
     "data": {
      "text/plain": "      budget                                             genres  \\\n0  237000000  [{\"id\": 28, \"name\": \"Action\"}, {\"id\": 12, \"nam...   \n1  300000000  [{\"id\": 12, \"name\": \"Adventure\"}, {\"id\": 14, \"...   \n2  245000000  [{\"id\": 28, \"name\": \"Action\"}, {\"id\": 12, \"nam...   \n3  250000000  [{\"id\": 28, \"name\": \"Action\"}, {\"id\": 80, \"nam...   \n4  260000000  [{\"id\": 28, \"name\": \"Action\"}, {\"id\": 12, \"nam...   \n\n                                       homepage      id  \\\n0                   http://www.avatarmovie.com/   19995   \n1  http://disney.go.com/disneypictures/pirates/     285   \n2   http://www.sonypictures.com/movies/spectre/  206647   \n3            http://www.thedarkknightrises.com/   49026   \n4          http://movies.disney.com/john-carter   49529   \n\n                                            keywords original_language  \\\n0  [{\"id\": 1463, \"name\": \"culture clash\"}, {\"id\":...                en   \n1  [{\"id\": 270, \"name\": \"ocean\"}, {\"id\": 726, \"na...                en   \n2  [{\"id\": 470, \"name\": \"spy\"}, {\"id\": 818, \"name...                en   \n3  [{\"id\": 849, \"name\": \"dc comics\"}, {\"id\": 853,...                en   \n4  [{\"id\": 818, \"name\": \"based on novel\"}, {\"id\":...                en   \n\n                             original_title  \\\n0                                    Avatar   \n1  Pirates of the Caribbean: At World's End   \n2                                   Spectre   \n3                     The Dark Knight Rises   \n4                               John Carter   \n\n                                            overview  popularity  \\\n0  In the 22nd century, a paraplegic Marine is di...  150.437577   \n1  Captain Barbossa, long believed to be dead, ha...  139.082615   \n2  A cryptic message from Bond’s past sends him o...  107.376788   \n3  Following the death of District Attorney Harve...  112.312950   \n4  John Carter is a war-weary, former military ca...   43.926995   \n\n                                production_companies  \\\n0  [{\"name\": \"Ingenious Film Partners\", \"id\": 289...   \n1  [{\"name\": \"Walt Disney Pictures\", \"id\": 2}, {\"...   \n2  [{\"name\": \"Columbia Pictures\", \"id\": 5}, {\"nam...   \n3  [{\"name\": \"Legendary Pictures\", \"id\": 923}, {\"...   \n4        [{\"name\": \"Walt Disney Pictures\", \"id\": 2}]   \n\n                                production_countries release_date     revenue  \\\n0  [{\"iso_3166_1\": \"US\", \"name\": \"United States o...   2009-12-10  2787965087   \n1  [{\"iso_3166_1\": \"US\", \"name\": \"United States o...   2007-05-19   961000000   \n2  [{\"iso_3166_1\": \"GB\", \"name\": \"United Kingdom\"...   2015-10-26   880674609   \n3  [{\"iso_3166_1\": \"US\", \"name\": \"United States o...   2012-07-16  1084939099   \n4  [{\"iso_3166_1\": \"US\", \"name\": \"United States o...   2012-03-07   284139100   \n\n   runtime                                   spoken_languages    status  \\\n0    162.0  [{\"iso_639_1\": \"en\", \"name\": \"English\"}, {\"iso...  Released   \n1    169.0           [{\"iso_639_1\": \"en\", \"name\": \"English\"}]  Released   \n2    148.0  [{\"iso_639_1\": \"fr\", \"name\": \"Fran\\u00e7ais\"},...  Released   \n3    165.0           [{\"iso_639_1\": \"en\", \"name\": \"English\"}]  Released   \n4    132.0           [{\"iso_639_1\": \"en\", \"name\": \"English\"}]  Released   \n\n                                          tagline  \\\n0                     Enter the World of Pandora.   \n1  At the end of the world, the adventure begins.   \n2                           A Plan No One Escapes   \n3                                 The Legend Ends   \n4            Lost in our world, found in another.   \n\n                                      title  vote_average  vote_count  \n0                                    Avatar           7.2       11800  \n1  Pirates of the Caribbean: At World's End           6.9        4500  \n2                                   Spectre           6.3        4466  \n3                     The Dark Knight Rises           7.6        9106  \n4                               John Carter           6.1        2124  ",
      "text/html": "<div>\n<style scoped>\n    .dataframe tbody tr th:only-of-type {\n        vertical-align: middle;\n    }\n\n    .dataframe tbody tr th {\n        vertical-align: top;\n    }\n\n    .dataframe thead th {\n        text-align: right;\n    }\n</style>\n<table border=\"1\" class=\"dataframe\">\n  <thead>\n    <tr style=\"text-align: right;\">\n      <th></th>\n      <th>budget</th>\n      <th>genres</th>\n      <th>homepage</th>\n      <th>id</th>\n      <th>keywords</th>\n      <th>original_language</th>\n      <th>original_title</th>\n      <th>overview</th>\n      <th>popularity</th>\n      <th>production_companies</th>\n      <th>production_countries</th>\n      <th>release_date</th>\n      <th>revenue</th>\n      <th>runtime</th>\n      <th>spoken_languages</th>\n      <th>status</th>\n      <th>tagline</th>\n      <th>title</th>\n      <th>vote_average</th>\n      <th>vote_count</th>\n    </tr>\n  </thead>\n  <tbody>\n    <tr>\n      <th>0</th>\n      <td>237000000</td>\n      <td>[{\"id\": 28, \"name\": \"Action\"}, {\"id\": 12, \"nam...</td>\n      <td>http://www.avatarmovie.com/</td>\n      <td>19995</td>\n      <td>[{\"id\": 1463, \"name\": \"culture clash\"}, {\"id\":...</td>\n      <td>en</td>\n      <td>Avatar</td>\n      <td>In the 22nd century, a paraplegic Marine is di...</td>\n      <td>150.437577</td>\n      <td>[{\"name\": \"Ingenious Film Partners\", \"id\": 289...</td>\n      <td>[{\"iso_3166_1\": \"US\", \"name\": \"United States o...</td>\n      <td>2009-12-10</td>\n      <td>2787965087</td>\n      <td>162.0</td>\n      <td>[{\"iso_639_1\": \"en\", \"name\": \"English\"}, {\"iso...</td>\n      <td>Released</td>\n      <td>Enter the World of Pandora.</td>\n      <td>Avatar</td>\n      <td>7.2</td>\n      <td>11800</td>\n    </tr>\n    <tr>\n      <th>1</th>\n      <td>300000000</td>\n      <td>[{\"id\": 12, \"name\": \"Adventure\"}, {\"id\": 14, \"...</td>\n      <td>http://disney.go.com/disneypictures/pirates/</td>\n      <td>285</td>\n      <td>[{\"id\": 270, \"name\": \"ocean\"}, {\"id\": 726, \"na...</td>\n      <td>en</td>\n      <td>Pirates of the Caribbean: At World's End</td>\n      <td>Captain Barbossa, long believed to be dead, ha...</td>\n      <td>139.082615</td>\n      <td>[{\"name\": \"Walt Disney Pictures\", \"id\": 2}, {\"...</td>\n      <td>[{\"iso_3166_1\": \"US\", \"name\": \"United States o...</td>\n      <td>2007-05-19</td>\n      <td>961000000</td>\n      <td>169.0</td>\n      <td>[{\"iso_639_1\": \"en\", \"name\": \"English\"}]</td>\n      <td>Released</td>\n      <td>At the end of the world, the adventure begins.</td>\n      <td>Pirates of the Caribbean: At World's End</td>\n      <td>6.9</td>\n      <td>4500</td>\n    </tr>\n    <tr>\n      <th>2</th>\n      <td>245000000</td>\n      <td>[{\"id\": 28, \"name\": \"Action\"}, {\"id\": 12, \"nam...</td>\n      <td>http://www.sonypictures.com/movies/spectre/</td>\n      <td>206647</td>\n      <td>[{\"id\": 470, \"name\": \"spy\"}, {\"id\": 818, \"name...</td>\n      <td>en</td>\n      <td>Spectre</td>\n      <td>A cryptic message from Bond’s past sends him o...</td>\n      <td>107.376788</td>\n      <td>[{\"name\": \"Columbia Pictures\", \"id\": 5}, {\"nam...</td>\n      <td>[{\"iso_3166_1\": \"GB\", \"name\": \"United Kingdom\"...</td>\n      <td>2015-10-26</td>\n      <td>880674609</td>\n      <td>148.0</td>\n      <td>[{\"iso_639_1\": \"fr\", \"name\": \"Fran\\u00e7ais\"},...</td>\n      <td>Released</td>\n      <td>A Plan No One Escapes</td>\n      <td>Spectre</td>\n      <td>6.3</td>\n      <td>4466</td>\n    </tr>\n    <tr>\n      <th>3</th>\n      <td>250000000</td>\n      <td>[{\"id\": 28, \"name\": \"Action\"}, {\"id\": 80, \"nam...</td>\n      <td>http://www.thedarkknightrises.com/</td>\n      <td>49026</td>\n      <td>[{\"id\": 849, \"name\": \"dc comics\"}, {\"id\": 853,...</td>\n      <td>en</td>\n      <td>The Dark Knight Rises</td>\n      <td>Following the death of District Attorney Harve...</td>\n      <td>112.312950</td>\n      <td>[{\"name\": \"Legendary Pictures\", \"id\": 923}, {\"...</td>\n      <td>[{\"iso_3166_1\": \"US\", \"name\": \"United States o...</td>\n      <td>2012-07-16</td>\n      <td>1084939099</td>\n      <td>165.0</td>\n      <td>[{\"iso_639_1\": \"en\", \"name\": \"English\"}]</td>\n      <td>Released</td>\n      <td>The Legend Ends</td>\n      <td>The Dark Knight Rises</td>\n      <td>7.6</td>\n      <td>9106</td>\n    </tr>\n    <tr>\n      <th>4</th>\n      <td>260000000</td>\n      <td>[{\"id\": 28, \"name\": \"Action\"}, {\"id\": 12, \"nam...</td>\n      <td>http://movies.disney.com/john-carter</td>\n      <td>49529</td>\n      <td>[{\"id\": 818, \"name\": \"based on novel\"}, {\"id\":...</td>\n      <td>en</td>\n      <td>John Carter</td>\n      <td>John Carter is a war-weary, former military ca...</td>\n      <td>43.926995</td>\n      <td>[{\"name\": \"Walt Disney Pictures\", \"id\": 2}]</td>\n      <td>[{\"iso_3166_1\": \"US\", \"name\": \"United States o...</td>\n      <td>2012-03-07</td>\n      <td>284139100</td>\n      <td>132.0</td>\n      <td>[{\"iso_639_1\": \"en\", \"name\": \"English\"}]</td>\n      <td>Released</td>\n      <td>Lost in our world, found in another.</td>\n      <td>John Carter</td>\n      <td>6.1</td>\n      <td>2124</td>\n    </tr>\n  </tbody>\n</table>\n</div>"
     },
     "execution_count": 169,
     "metadata": {},
     "output_type": "execute_result"
    }
   ],
   "source": [
    "tmdb = pd.read_csv(\"tmdb_5000_movies.csv\")\n",
    "tmdb.head()"
   ]
  },
  {
   "cell_type": "code",
   "execution_count": 170,
   "metadata": {
    "colab": {
     "base_uri": "https://localhost:8080/",
     "height": 84
    },
    "colab_type": "code",
    "id": "_K-cCMzypLke",
    "outputId": "51f027a2-aeb3-4a08-953e-dae4963415aa",
    "ExecuteTime": {
     "end_time": "2024-02-20T23:39:12.049014400Z",
     "start_time": "2024-02-20T23:39:11.863891900Z"
    }
   },
   "outputs": [
    {
     "data": {
      "text/plain": "array(['en', 'ja', 'fr', 'zh', 'es', 'de', 'hi', 'ru', 'ko', 'te', 'cn',\n       'it', 'nl', 'ta', 'sv', 'th', 'da', 'xx', 'hu', 'cs', 'pt', 'is',\n       'tr', 'nb', 'af', 'pl', 'he', 'ar', 'vi', 'ky', 'id', 'ro', 'fa',\n       'no', 'sl', 'ps', 'el'], dtype=object)"
     },
     "execution_count": 170,
     "metadata": {},
     "output_type": "execute_result"
    }
   ],
   "source": [
    "tmdb.original_language.unique() # categorica nominal"
   ]
  },
  {
   "cell_type": "code",
   "execution_count": 171,
   "metadata": {
    "colab": {},
    "colab_type": "code",
    "id": "Di5LBNTtp495",
    "ExecuteTime": {
     "end_time": "2024-02-20T23:39:12.049014400Z",
     "start_time": "2024-02-20T23:39:11.870387400Z"
    }
   },
   "outputs": [],
   "source": [
    "# primeiro grau\n",
    "# segundo grau\n",
    "# terceiro grau\n",
    "# 1 grau < 2 grau < 3 grau # categorica ordinal"
   ]
  },
  {
   "cell_type": "code",
   "execution_count": 172,
   "metadata": {
    "colab": {},
    "colab_type": "code",
    "id": "CR2acQDpqoV2",
    "ExecuteTime": {
     "end_time": "2024-02-20T23:39:12.049014400Z",
     "start_time": "2024-02-20T23:39:11.883375400Z"
    }
   },
   "outputs": [],
   "source": [
    "# budget => orcamento => quantitativa continuo "
   ]
  },
  {
   "cell_type": "code",
   "execution_count": 173,
   "metadata": {
    "colab": {},
    "colab_type": "code",
    "id": "nYqfkmQKrJO9",
    "ExecuteTime": {
     "end_time": "2024-02-20T23:39:12.050270500Z",
     "start_time": "2024-02-20T23:39:11.891284200Z"
    }
   },
   "outputs": [],
   "source": [
    "# quantidade de votos => 1, 2, 3, 4, nao tem 2.5 votos.\n",
    "# notas do movielens => 0.5, 1, 1.5, ... ,5 nao tem 2.7"
   ]
  },
  {
   "cell_type": "code",
   "execution_count": 174,
   "metadata": {
    "colab": {
     "base_uri": "https://localhost:8080/",
     "height": 101
    },
    "colab_type": "code",
    "id": "KG2tWUgHW3Mu",
    "outputId": "4b3f16a5-388a-4a49-80ad-5ff2671858b2",
    "ExecuteTime": {
     "end_time": "2024-02-20T23:39:12.091752300Z",
     "start_time": "2024-02-20T23:39:11.901429400Z"
    }
   },
   "outputs": [
    {
     "data": {
      "text/plain": "Index(['en', 'fr', 'es', 'zh', 'de', 'hi', 'ja', 'it', 'cn', 'ru', 'ko', 'pt',\n       'da', 'sv', 'nl', 'fa', 'th', 'he', 'ta', 'cs', 'ro', 'id', 'ar', 'vi',\n       'sl', 'ps', 'no', 'ky', 'hu', 'pl', 'af', 'nb', 'tr', 'is', 'xx', 'te',\n       'el'],\n      dtype='object', name='original_language')"
     },
     "execution_count": 174,
     "metadata": {},
     "output_type": "execute_result"
    }
   ],
   "source": [
    "tmdb[\"original_language\"].value_counts().index"
   ]
  },
  {
   "cell_type": "code",
   "execution_count": 175,
   "metadata": {
    "colab": {
     "base_uri": "https://localhost:8080/",
     "height": 84
    },
    "colab_type": "code",
    "id": "IoszQzWTYtB3",
    "outputId": "5c52dc34-3fe8-40f1-f9fd-895cb87beafb",
    "ExecuteTime": {
     "end_time": "2024-02-20T23:39:12.093766900Z",
     "start_time": "2024-02-20T23:39:11.926376800Z"
    }
   },
   "outputs": [
    {
     "data": {
      "text/plain": "array([4505,   70,   32,   27,   27,   19,   16,   14,   12,   11,   11,\n          9,    7,    5,    4,    4,    3,    3,    2,    2,    2,    2,\n          2,    1,    1,    1,    1,    1,    1,    1,    1,    1,    1,\n          1,    1,    1,    1], dtype=int64)"
     },
     "execution_count": 175,
     "metadata": {},
     "output_type": "execute_result"
    }
   ],
   "source": [
    "tmdb[\"original_language\"].value_counts().values"
   ]
  },
  {
   "cell_type": "code",
   "execution_count": 176,
   "metadata": {
    "colab": {
     "base_uri": "https://localhost:8080/",
     "height": 195
    },
    "colab_type": "code",
    "id": "NGMwpmkHY-Rv",
    "outputId": "4b781dba-cad7-4bbb-ec9a-a0eba30c5779",
    "ExecuteTime": {
     "end_time": "2024-02-20T23:39:12.095254500Z",
     "start_time": "2024-02-20T23:39:11.936846900Z"
    }
   },
   "outputs": [
    {
     "data": {
      "text/plain": "  original_language  total\n0                en   4505\n1                fr     70\n2                es     32\n3                zh     27\n4                de     27",
      "text/html": "<div>\n<style scoped>\n    .dataframe tbody tr th:only-of-type {\n        vertical-align: middle;\n    }\n\n    .dataframe tbody tr th {\n        vertical-align: top;\n    }\n\n    .dataframe thead th {\n        text-align: right;\n    }\n</style>\n<table border=\"1\" class=\"dataframe\">\n  <thead>\n    <tr style=\"text-align: right;\">\n      <th></th>\n      <th>original_language</th>\n      <th>total</th>\n    </tr>\n  </thead>\n  <tbody>\n    <tr>\n      <th>0</th>\n      <td>en</td>\n      <td>4505</td>\n    </tr>\n    <tr>\n      <th>1</th>\n      <td>fr</td>\n      <td>70</td>\n    </tr>\n    <tr>\n      <th>2</th>\n      <td>es</td>\n      <td>32</td>\n    </tr>\n    <tr>\n      <th>3</th>\n      <td>zh</td>\n      <td>27</td>\n    </tr>\n    <tr>\n      <th>4</th>\n      <td>de</td>\n      <td>27</td>\n    </tr>\n  </tbody>\n</table>\n</div>"
     },
     "execution_count": 176,
     "metadata": {},
     "output_type": "execute_result"
    }
   ],
   "source": [
    "contagem_de_lingua = tmdb[\"original_language\"].value_counts().to_frame().reset_index()\n",
    "contagem_de_lingua.columns = [\"original_language\", \"total\"]\n",
    "contagem_de_lingua.head()"
   ]
  },
  {
   "cell_type": "code",
   "execution_count": 177,
   "metadata": {
    "colab": {
     "base_uri": "https://localhost:8080/",
     "height": 301
    },
    "colab_type": "code",
    "id": "KYSYbTBFZC0S",
    "outputId": "5a37254d-00e0-411c-8aec-7e462e0cca30",
    "ExecuteTime": {
     "end_time": "2024-02-20T23:39:12.513652800Z",
     "start_time": "2024-02-20T23:39:11.948821Z"
    }
   },
   "outputs": [
    {
     "data": {
      "text/plain": "<Axes: xlabel='original_language', ylabel='total'>"
     },
     "execution_count": 177,
     "metadata": {},
     "output_type": "execute_result"
    },
    {
     "data": {
      "text/plain": "<Figure size 640x480 with 1 Axes>",
      "image/png": "[encoded data removed]"
     },
     "metadata": {},
     "output_type": "display_data"
    }
   ],
   "source": [
    "sns.barplot(x=\"original_language\", y = \"total\", data = contagem_de_lingua)"
   ]
  },
  {
   "cell_type": "code",
   "execution_count": 178,
   "metadata": {
    "colab": {
     "base_uri": "https://localhost:8080/",
     "height": 386
    },
    "colab_type": "code",
    "id": "YerunvIRZsxF",
    "outputId": "138bea17-4f68-4686-d271-d59a34db889a",
    "ExecuteTime": {
     "end_time": "2024-02-20T23:39:12.916842200Z",
     "start_time": "2024-02-20T23:39:12.369274400Z"
    }
   },
   "outputs": [
    {
     "data": {
      "text/plain": "<seaborn.axisgrid.FacetGrid at 0x1ae517f27d0>"
     },
     "execution_count": 178,
     "metadata": {},
     "output_type": "execute_result"
    },
    {
     "data": {
      "text/plain": "<Figure size 500x500 with 1 Axes>",
      "image/png": "[encoded data removed]"
     },
     "metadata": {},
     "output_type": "display_data"
    }
   ],
   "source": [
    "sns.catplot(x = \"original_language\", kind=\"count\", data = tmdb)"
   ]
  },
  {
   "cell_type": "code",
   "execution_count": 179,
   "metadata": {
    "colab": {
     "base_uri": "https://localhost:8080/",
     "height": 1498
    },
    "colab_type": "code",
    "id": "TY88jlWSdJRl",
    "outputId": "660a9c3f-131b-4828-b46e-4247f2be220c",
    "ExecuteTime": {
     "end_time": "2024-02-20T23:39:13.121101900Z",
     "start_time": "2024-02-20T23:39:12.916842200Z"
    }
   },
   "outputs": [
    {
     "data": {
      "text/plain": "([<matplotlib.patches.Wedge at 0x1ae5196d3d0>,\n  <matplotlib.patches.Wedge at 0x1ae519a1dd0>,\n  <matplotlib.patches.Wedge at 0x1ae519a2c90>,\n  <matplotlib.patches.Wedge at 0x1ae519a3a10>,\n  <matplotlib.patches.Wedge at 0x1ae519b0d10>,\n  <matplotlib.patches.Wedge at 0x1ae519b1dd0>,\n  <matplotlib.patches.Wedge at 0x1ae519b1090>,\n  <matplotlib.patches.Wedge at 0x1ae519b38d0>,\n  <matplotlib.patches.Wedge at 0x1ae519c4a50>,\n  <matplotlib.patches.Wedge at 0x1ae519b1bd0>,\n  <matplotlib.patches.Wedge at 0x1ae519c6710>,\n  <matplotlib.patches.Wedge at 0x1ae519c7790>,\n  <matplotlib.patches.Wedge at 0x1ae519d4710>,\n  <matplotlib.patches.Wedge at 0x1ae519d55d0>,\n  <matplotlib.patches.Wedge at 0x1ae519d63d0>,\n  <matplotlib.patches.Wedge at 0x1ae519d7110>,\n  <matplotlib.patches.Wedge at 0x1ae519e4090>,\n  <matplotlib.patches.Wedge at 0x1ae519e5010>,\n  <matplotlib.patches.Wedge at 0x1ae519e5750>,\n  <matplotlib.patches.Wedge at 0x1ae519e6e90>,\n  <matplotlib.patches.Wedge at 0x1ae519e7d90>,\n  <matplotlib.patches.Wedge at 0x1ae519f1150>,\n  <matplotlib.patches.Wedge at 0x1ae519f2550>,\n  <matplotlib.patches.Wedge at 0x1ae519f3810>,\n  <matplotlib.patches.Wedge at 0x1ae51a04b10>,\n  <matplotlib.patches.Wedge at 0x1ae51a05dd0>,\n  <matplotlib.patches.Wedge at 0x1ae51a070d0>,\n  <matplotlib.patches.Wedge at 0x1ae519f44d0>,\n  <matplotlib.patches.Wedge at 0x1ae519f5a10>,\n  <matplotlib.patches.Wedge at 0x1ae519f6d50>,\n  <matplotlib.patches.Wedge at 0x1ae51a140d0>,\n  <matplotlib.patches.Wedge at 0x1ae51a15410>,\n  <matplotlib.patches.Wedge at 0x1ae51a16790>,\n  <matplotlib.patches.Wedge at 0x1ae51a17c50>,\n  <matplotlib.patches.Wedge at 0x1ae51a24f10>,\n  <matplotlib.patches.Wedge at 0x1ae51a26250>,\n  <matplotlib.patches.Wedge at 0x1ae51a27750>],\n [Text(-1.0791697536499925, 0.2130554923183512, 'en'),\n  Text(1.0355355017029462, -0.3710339940124459, 'fr'),\n  Text(1.0579676486019882, -0.3011718023181785, 'es'),\n  Text(1.0687996606645356, -0.26012936274741094, 'zh'),\n  Text(1.0773191105706255, -0.22222406260195313, 'de'),\n  Text(1.0835167978583342, -0.18971386021801853, 'hi'),\n  Text(1.0875756432724297, -0.16486121484618815, 'ja'),\n  Text(1.0906010773146022, -0.14348968659882622, 'it'),\n  Text(1.092883487371409, -0.12492270822755745, 'cn'),\n  Text(1.0946390911069936, -0.10846778425161549, 'ru'),\n  Text(1.0960865535188649, -0.09270527058984593, 'ko'),\n  Text(1.0972054830031333, -0.07835896928789601, 'pt'),\n  Text(1.097965443340663, -0.06687215586282344, 'da'),\n  Text(1.0984565010300316, -0.05825217030171998, 'sv'),\n  Text(1.0987803851616647, -0.0517847968421653, 'nl'),\n  Text(1.0990363161210686, -0.04603450713357274, 'fa'),\n  Text(1.0992355702663055, -0.04100196411527794, 'th'),\n  Text(1.0993880184234357, -0.03668766750546649, 'he'),\n  Text(1.0995021239019234, -0.033091985965784415, 'ta'),\n  Text(1.099584941078101, -0.03021518416739545, 'cs'),\n  Text(1.0996602312343366, -0.027338175536150495, 'ro'),\n  Text(1.099727993855245, -0.024460979766119193, 'id'),\n  Text(1.0997882284769684, -0.02158361655264929, 'ar'),\n  Text(1.0998284639438185, -0.01942549610642471, 'vi'),\n  Text(1.0998529348820232, -0.01798670707495573, 'sl'),\n  Text(1.0998755236058106, -0.01654788726224571, 'ps'),\n  Text(1.0998962300765243, -0.01510903913059323, 'no'),\n  Text(1.0999150542587282, -0.013670165142345335, 'ky'),\n  Text(1.0999319961202083, -0.012231267759896247, 'hu'),\n  Text(1.0999470556319713, -0.01079234944567632, 'pl'),\n  Text(1.099960232768245, -0.00935341266215563, 'af'),\n  Text(1.0999715275064792, -0.007914459871831963, 'nb'),\n  Text(1.0999809398273452, -0.006475493537234394, 'tr'),\n  Text(1.0999884697147349, -0.005036516120911278, 'is'),\n  Text(1.0999941171557621, -0.0035975300854338356, 'xx'),\n  Text(1.0999978821407626, -0.0021585378933851127, 'te'),\n  Text(1.0999997646632929, -0.0007195420073586872, 'el')])"
     },
     "execution_count": 179,
     "metadata": {},
     "output_type": "execute_result"
    },
    {
     "data": {
      "text/plain": "<Figure size 640x480 with 1 Axes>",
      "image/png": "[encoded data removed]"
     },
     "metadata": {},
     "output_type": "display_data"
    }
   ],
   "source": [
    "plt.pie(contagem_de_lingua[\"total\"], labels = contagem_de_lingua[\"original_language\"])"
   ]
  },
  {
   "cell_type": "code",
   "execution_count": 180,
   "metadata": {
    "colab": {
     "base_uri": "https://localhost:8080/",
     "height": 34
    },
    "colab_type": "code",
    "id": "zh1YxNALeBSt",
    "outputId": "b5d93483-a626-4629-ff8c-dc64914d8b1f",
    "ExecuteTime": {
     "end_time": "2024-02-20T23:39:13.136110100Z",
     "start_time": "2024-02-20T23:39:13.123093Z"
    }
   },
   "outputs": [
    {
     "name": "stdout",
     "output_type": "stream",
     "text": [
      "4505 298\n"
     ]
    }
   ],
   "source": [
    "total_por_lingua = tmdb[\"original_language\"].value_counts()\n",
    "total_geral = total_por_lingua.sum()\n",
    "total_de_ingles = total_por_lingua.loc[\"en\"]\n",
    "total_do_resto = total_geral - total_de_ingles\n",
    "print(total_de_ingles, total_do_resto)"
   ]
  },
  {
   "cell_type": "code",
   "execution_count": 181,
   "metadata": {
    "colab": {
     "base_uri": "https://localhost:8080/",
     "height": 283
    },
    "colab_type": "code",
    "id": "PLvK-HvAef7F",
    "outputId": "26b130a6-6edc-48a5-fdb6-988cab557e34",
    "ExecuteTime": {
     "end_time": "2024-02-20T23:39:13.292214200Z",
     "start_time": "2024-02-20T23:39:13.126949500Z"
    }
   },
   "outputs": [
    {
     "data": {
      "text/plain": "<Axes: xlabel='lingua', ylabel='total'>"
     },
     "execution_count": 181,
     "metadata": {},
     "output_type": "execute_result"
    },
    {
     "data": {
      "text/plain": "<Figure size 640x480 with 1 Axes>",
      "image/png": "[encoded data removed]"
     },
     "metadata": {},
     "output_type": "display_data"
    }
   ],
   "source": [
    "dados = {\n",
    "    'lingua' : ['ingles','outros'],\n",
    "    'total' : [total_de_ingles, total_do_resto]\n",
    "}\n",
    "dados = pd.DataFrame(dados)\n",
    "sns.barplot(x=\"lingua\", y=\"total\", data = dados)"
   ]
  },
  {
   "cell_type": "code",
   "execution_count": 182,
   "metadata": {
    "colab": {
     "base_uri": "https://localhost:8080/",
     "height": 306
    },
    "colab_type": "code",
    "id": "ohpla-LIfGVI",
    "outputId": "ae4d61cf-f7f0-41de-bac6-602d25dfc516",
    "ExecuteTime": {
     "end_time": "2024-02-20T23:39:13.313753500Z",
     "start_time": "2024-02-20T23:39:13.247887200Z"
    }
   },
   "outputs": [
    {
     "data": {
      "text/plain": "([<matplotlib.patches.Wedge at 0x1ae51ac3490>,\n  <matplotlib.patches.Wedge at 0x1ae51ad02d0>],\n [Text(-1.0791697536499925, 0.2130554923183512, 'ingles'),\n  Text(1.0791697511565306, -0.2130555049482467, 'outros')])"
     },
     "execution_count": 182,
     "metadata": {},
     "output_type": "execute_result"
    },
    {
     "data": {
      "text/plain": "<Figure size 640x480 with 1 Axes>",
      "image/png": "[encoded data removed]"
     },
     "metadata": {},
     "output_type": "display_data"
    }
   ],
   "source": [
    "plt.pie(dados[\"total\"], labels = dados[\"lingua\"])"
   ]
  },
  {
   "cell_type": "code",
   "execution_count": 183,
   "metadata": {
    "colab": {
     "base_uri": "https://localhost:8080/",
     "height": 638
    },
    "colab_type": "code",
    "id": "qnPTWRLcfzLj",
    "outputId": "4df859b2-874e-4871-9bd3-0e0a1b749e06",
    "ExecuteTime": {
     "end_time": "2024-02-20T23:39:13.314975700Z",
     "start_time": "2024-02-20T23:39:13.305323500Z"
    }
   },
   "outputs": [
    {
     "data": {
      "text/plain": "original_language\nfr    70\nes    32\nzh    27\nde    27\nhi    19\nja    16\nit    14\ncn    12\nko    11\nru    11\npt     9\nda     7\nsv     5\nfa     4\nnl     4\nhe     3\nth     3\nro     2\nid     2\nar     2\ncs     2\nta     2\ntr     1\nnb     1\naf     1\npl     1\nis     1\nhu     1\nvi     1\nky     1\nxx     1\nte     1\nno     1\nsl     1\nps     1\nel     1\nName: count, dtype: int64"
     },
     "execution_count": 183,
     "metadata": {},
     "output_type": "execute_result"
    }
   ],
   "source": [
    "total_por_lingua_de_outros_filmes = tmdb.query(\"original_language != 'en'\").original_language.value_counts()\n",
    "total_por_lingua_de_outros_filmes"
   ]
  },
  {
   "cell_type": "code",
   "execution_count": 184,
   "metadata": {
    "colab": {
     "base_uri": "https://localhost:8080/",
     "height": 386
    },
    "colab_type": "code",
    "id": "lAREm4MGkbjX",
    "outputId": "98156409-fa17-43c6-e8ab-ddaa6a3f5d97",
    "ExecuteTime": {
     "end_time": "2024-02-20T23:39:13.769396800Z",
     "start_time": "2024-02-20T23:39:13.315971100Z"
    }
   },
   "outputs": [
    {
     "data": {
      "text/plain": "<seaborn.axisgrid.FacetGrid at 0x1ae51a5fd50>"
     },
     "execution_count": 184,
     "metadata": {},
     "output_type": "execute_result"
    },
    {
     "data": {
      "text/plain": "<Figure size 500x500 with 1 Axes>",
      "image/png": "[encoded data removed]"
     },
     "metadata": {},
     "output_type": "display_data"
    }
   ],
   "source": [
    "filmes_sem_lingua_original_em_ingles = tmdb.query(\"original_language != 'en'\")\n",
    "\n",
    "sns.catplot(x = \"original_language\", kind=\"count\",\n",
    "              data = filmes_sem_lingua_original_em_ingles)"
   ]
  },
  {
   "cell_type": "code",
   "execution_count": 185,
   "metadata": {
    "colab": {
     "base_uri": "https://localhost:8080/",
     "height": 369
    },
    "colab_type": "code",
    "id": "XmWviSJogUCD",
    "outputId": "8f383e70-7d30-49d1-9c10-89ead3828f1e",
    "ExecuteTime": {
     "end_time": "2024-02-20T23:39:14.913711600Z",
     "start_time": "2024-02-20T23:39:13.769396800Z"
    }
   },
   "outputs": [
    {
     "name": "stderr",
     "output_type": "stream",
     "text": [
      "C:\\Users\\palom\\AppData\\Local\\Temp\\ipykernel_25980\\2017362609.py:1: FutureWarning: \n",
      "\n",
      "Passing `palette` without assigning `hue` is deprecated and will be removed in v0.14.0. Assign the `x` variable to `hue` and set `legend=False` for the same effect.\n",
      "\n",
      "  sns.catplot(x = \"original_language\", kind=\"count\",\n"
     ]
    },
    {
     "data": {
      "text/plain": "<seaborn.axisgrid.FacetGrid at 0x1ae51b6cdd0>"
     },
     "execution_count": 185,
     "metadata": {},
     "output_type": "execute_result"
    },
    {
     "data": {
      "text/plain": "<Figure size 1121.24x500 with 1 Axes>",
      "image/png": "[encoded data removed]"
     },
     "metadata": {},
     "output_type": "display_data"
    }
   ],
   "source": [
    "sns.catplot(x = \"original_language\", kind=\"count\",\n",
    "              data = filmes_sem_lingua_original_em_ingles,\n",
    "              aspect = 2,\n",
    "              palette=\"GnBu_d\",\n",
    "              order = total_por_lingua_de_outros_filmes.index)"
   ]
  },
  {
   "cell_type": "markdown",
   "metadata": {
    "colab_type": "text",
    "id": "nT7UIJBdRWuH"
   },
   "source": [
    "# Revisando o papel da média, mediana, medidas de tendência central, dispersão, desvio padrão, box plot, histograma"
   ]
  },
  {
   "cell_type": "code",
   "execution_count": 186,
   "metadata": {
    "colab": {
     "base_uri": "https://localhost:8080/",
     "height": 106
    },
    "colab_type": "code",
    "id": "3IxPP7BcmDHg",
    "outputId": "fdcf5539-72d5-4737-a982-e7c89c86c420",
    "ExecuteTime": {
     "end_time": "2024-02-20T23:39:14.915881Z",
     "start_time": "2024-02-20T23:39:14.890517800Z"
    }
   },
   "outputs": [
    {
     "data": {
      "text/plain": "   filmeId            titulo                                      generos\n0        1  Toy Story (1995)  Adventure|Animation|Children|Comedy|Fantasy\n1        2    Jumanji (1995)                   Adventure|Children|Fantasy",
      "text/html": "<div>\n<style scoped>\n    .dataframe tbody tr th:only-of-type {\n        vertical-align: middle;\n    }\n\n    .dataframe tbody tr th {\n        vertical-align: top;\n    }\n\n    .dataframe thead th {\n        text-align: right;\n    }\n</style>\n<table border=\"1\" class=\"dataframe\">\n  <thead>\n    <tr style=\"text-align: right;\">\n      <th></th>\n      <th>filmeId</th>\n      <th>titulo</th>\n      <th>generos</th>\n    </tr>\n  </thead>\n  <tbody>\n    <tr>\n      <th>0</th>\n      <td>1</td>\n      <td>Toy Story (1995)</td>\n      <td>Adventure|Animation|Children|Comedy|Fantasy</td>\n    </tr>\n    <tr>\n      <th>1</th>\n      <td>2</td>\n      <td>Jumanji (1995)</td>\n      <td>Adventure|Children|Fantasy</td>\n    </tr>\n  </tbody>\n</table>\n</div>"
     },
     "execution_count": 186,
     "metadata": {},
     "output_type": "execute_result"
    }
   ],
   "source": [
    "filmes.head(2)"
   ]
  },
  {
   "cell_type": "code",
   "execution_count": 187,
   "metadata": {
    "colab": {
     "base_uri": "https://localhost:8080/",
     "height": 34
    },
    "colab_type": "code",
    "id": "ZSlr1wzOLyrp",
    "outputId": "883be4e4-76c7-4acb-d9a2-f915290b50c6",
    "ExecuteTime": {
     "end_time": "2024-02-20T23:39:14.922803700Z",
     "start_time": "2024-02-20T23:39:14.897150600Z"
    }
   },
   "outputs": [
    {
     "name": "stdout",
     "output_type": "stream",
     "text": [
      "215 110\n"
     ]
    }
   ],
   "source": [
    "notas_do_toy_story = notas.query(\"filmeId==1\")\n",
    "notas_do_jumanji = notas.query(\"filmeId==2\")\n",
    "print(len(notas_do_toy_story), len(notas_do_jumanji))"
   ]
  },
  {
   "cell_type": "code",
   "execution_count": 188,
   "metadata": {
    "colab": {
     "base_uri": "https://localhost:8080/",
     "height": 50
    },
    "colab_type": "code",
    "id": "m_2sRcpzL2h6",
    "outputId": "f49cb54e-1af0-40e6-aaf5-f8ab9c2d6f36",
    "ExecuteTime": {
     "end_time": "2024-02-20T23:39:14.940313200Z",
     "start_time": "2024-02-20T23:39:14.918008900Z"
    }
   },
   "outputs": [
    {
     "name": "stdout",
     "output_type": "stream",
     "text": [
      "Nota média do Toy Story 3.92\n",
      "Nota média do Jumanji 3.43\n"
     ]
    }
   ],
   "source": [
    "print(\"Nota média do Toy Story %.2f\" % notas_do_toy_story.nota.mean())\n",
    "print(\"Nota média do Jumanji %.2f\" % notas_do_jumanji.nota.mean())"
   ]
  },
  {
   "cell_type": "code",
   "execution_count": 189,
   "metadata": {
    "colab": {
     "base_uri": "https://localhost:8080/",
     "height": 34
    },
    "colab_type": "code",
    "id": "i33Of0zKPMLK",
    "outputId": "39043ac6-b8a8-418e-d8a8-e56551c05355",
    "ExecuteTime": {
     "end_time": "2024-02-20T23:39:14.943714900Z",
     "start_time": "2024-02-20T23:39:14.925027900Z"
    }
   },
   "outputs": [
    {
     "name": "stdout",
     "output_type": "stream",
     "text": [
      "0.8348591407114047 0.8817134921476455\n"
     ]
    }
   ],
   "source": [
    "print(notas_do_toy_story.nota.std(), notas_do_jumanji.nota.std())"
   ]
  },
  {
   "cell_type": "code",
   "execution_count": 190,
   "metadata": {
    "colab": {
     "base_uri": "https://localhost:8080/",
     "height": 50
    },
    "colab_type": "code",
    "id": "KRqySraiMPHL",
    "outputId": "2f4ef1d7-4681-46d9-ad58-c39e7039a3fb",
    "ExecuteTime": {
     "end_time": "2024-02-20T23:39:15.125905800Z",
     "start_time": "2024-02-20T23:39:14.933653Z"
    }
   },
   "outputs": [
    {
     "name": "stdout",
     "output_type": "stream",
     "text": [
      "Nota mediana do Toy Story 4.00\n",
      "Nota mediana do Jumanji 3.50\n"
     ]
    }
   ],
   "source": [
    "print(\"Nota mediana do Toy Story %.2f\" % notas_do_toy_story.nota.median())\n",
    "print(\"Nota mediana do Jumanji %.2f\" % notas_do_jumanji.nota.median())"
   ]
  },
  {
   "cell_type": "code",
   "execution_count": 191,
   "metadata": {
    "colab": {},
    "colab_type": "code",
    "id": "KX3sB03cMiTL",
    "ExecuteTime": {
     "end_time": "2024-02-20T23:39:15.128897100Z",
     "start_time": "2024-02-20T23:39:14.945706800Z"
    }
   },
   "outputs": [],
   "source": [
    "import numpy as np\n",
    "\n",
    "filme1 = np.append(np.array([2.5] * 10), np.array([3.5] * 10))\n",
    "filme2 = np.append(np.array([5] * 10), np.array([1] * 10))"
   ]
  },
  {
   "cell_type": "code",
   "execution_count": 192,
   "metadata": {
    "colab": {
     "base_uri": "https://localhost:8080/",
     "height": 67
    },
    "colab_type": "code",
    "id": "HD3lQXprNIO8",
    "outputId": "61230a65-181a-499d-fb33-2c430d372419",
    "ExecuteTime": {
     "end_time": "2024-02-20T23:39:15.166832900Z",
     "start_time": "2024-02-20T23:39:14.953252300Z"
    }
   },
   "outputs": [
    {
     "name": "stdout",
     "output_type": "stream",
     "text": [
      "3.0 3.0\n",
      "0.5 2.0\n",
      "3.0 3.0\n"
     ]
    }
   ],
   "source": [
    "print(filme1.mean(), filme2.mean())\n",
    "print(np.std(filme1), np.std(filme2))\n",
    "print(np.median(filme1), np.median(filme2))"
   ]
  },
  {
   "cell_type": "code",
   "execution_count": null,
   "metadata": {
    "colab": {
     "base_uri": "https://localhost:8080/",
     "height": 319
    },
    "colab_type": "code",
    "id": "8fShGVGUNnmy",
    "outputId": "da6087b6-f608-4239-a01c-582e42394bc1",
    "is_executing": true,
    "ExecuteTime": {
     "start_time": "2024-02-20T23:39:14.961741800Z"
    }
   },
   "outputs": [
    {
     "data": {
      "text/plain": "(array([10.,  0.,  0.,  0.,  0.,  0.,  0.,  0.,  0., 10.]),\n array([1. , 1.4, 1.8, 2.2, 2.6, 3. , 3.4, 3.8, 4.2, 4.6, 5. ]),\n <BarContainer object of 10 artists>)"
     },
     "execution_count": 193,
     "metadata": {},
     "output_type": "execute_result"
    }
   ],
   "source": [
    "plt.hist(filme1)\n",
    "plt.hist(filme2)"
   ]
  },
  {
   "cell_type": "code",
   "execution_count": null,
   "metadata": {
    "colab": {
     "base_uri": "https://localhost:8080/",
     "height": 521
    },
    "colab_type": "code",
    "id": "GEDjuK0yOMCd",
    "outputId": "8dae56ff-3789-478f-daac-a7c812320ca1",
    "is_executing": true,
    "ExecuteTime": {
     "start_time": "2024-02-20T23:39:15.138598Z"
    }
   },
   "outputs": [],
   "source": [
    "plt.boxplot([filme1, filme2])"
   ]
  },
  {
   "cell_type": "code",
   "execution_count": null,
   "metadata": {
    "colab": {},
    "colab_type": "code",
    "id": "0tNOVS1KQhDM",
    "is_executing": true,
    "ExecuteTime": {
     "start_time": "2024-02-20T23:39:15.430831800Z"
    }
   },
   "outputs": [],
   "source": []
  },
  {
   "cell_type": "code",
   "execution_count": null,
   "metadata": {
    "colab": {
     "base_uri": "https://localhost:8080/",
     "height": 578
    },
    "colab_type": "code",
    "id": "IOx3UI-WOeXG",
    "outputId": "155b0d90-3a5d-45b0-946e-d998fb5312e1",
    "is_executing": true,
    "ExecuteTime": {
     "start_time": "2024-02-20T23:39:15.433359Z"
    }
   },
   "outputs": [],
   "source": [
    "plt.boxplot([notas_do_toy_story.nota, notas_do_jumanji.nota])"
   ]
  },
  {
   "cell_type": "code",
   "execution_count": null,
   "metadata": {
    "colab": {
     "base_uri": "https://localhost:8080/",
     "height": 300
    },
    "colab_type": "code",
    "id": "NJVqYQnzOwgU",
    "outputId": "1498d0d6-5001-4f4d-fb37-461e3cb6ca77",
    "is_executing": true,
    "ExecuteTime": {
     "start_time": "2024-02-20T23:39:15.522669100Z"
    }
   },
   "outputs": [],
   "source": [
    "sns.boxplot(x = \"filmeId\", y = \"nota\", data = notas.query(\"filmeId in [1,2,3,4,5]\"))"
   ]
  },
  {
   "cell_type": "code",
   "execution_count": null,
   "metadata": {
    "colab": {},
    "colab_type": "code",
    "id": "JMtlnVFVQNMF",
    "is_executing": true,
    "ExecuteTime": {
     "start_time": "2024-02-20T23:39:15.645577100Z"
    }
   },
   "outputs": [],
   "source": []
  }
 ],
 "metadata": {
  "colab": {
   "collapsed_sections": [],
   "name": "Introdução a Data Science.ipynb",
   "provenance": [],
   "version": "0.3.2"
  },
  "kernelspec": {
   "name": "python3",
   "language": "python",
   "display_name": "Python 3 (ipykernel)"
  },
  "language_info": {
   "codemirror_mode": {
    "name": "ipython",
    "version": 3
   },
   "file_extension": ".py",
   "mimetype": "text/x-python",
   "name": "python",
   "nbconvert_exporter": "python",
   "pygments_lexer": "ipython3",
   "version": "3.12.0"
  }
 },
 "nbformat": 4,
 "nbformat_minor": 0
}
